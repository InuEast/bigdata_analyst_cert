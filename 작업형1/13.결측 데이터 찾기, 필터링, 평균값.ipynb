{
  "nbformat": 4,
  "nbformat_minor": 0,
  "metadata": {
    "colab": {
      "provenance": []
    },
    "kernelspec": {
      "name": "python3",
      "display_name": "Python 3"
    },
    "language_info": {
      "name": "python"
    }
  },
  "cells": [
    {
      "cell_type": "markdown",
      "source": [
        "#### 문제\n",
        "1. 'f1'컬럼에 결측치가 있는 데이터만 선택하시오.\n",
        "2. 선택된 데이터에서 'age'컬럼의 평균값을 구하시오. (반올림 후 소수 첫째 자리까지 계산)"
      ],
      "metadata": {
        "id": "pKjBTDobRnSS"
      }
    },
    {
      "cell_type": "code",
      "execution_count": 1,
      "metadata": {
        "id": "zOVJWCPNRi2M"
      },
      "outputs": [],
      "source": [
        "import pandas as pd\n",
        "df = pd.read_csv(\"type1_data1.csv\")"
      ]
    },
    {
      "cell_type": "markdown",
      "source": [
        "#### 풀이"
      ],
      "metadata": {
        "id": "o4VWC1bYR27h"
      }
    },
    {
      "cell_type": "code",
      "source": [
        "# 결측치가 있는 데이터 True/False\n",
        "cond = df['f1'].isnull()\n",
        "\n",
        "# 결측치가 있는 데이터 선택\n",
        "df = df[cond]\n",
        "\n",
        "# age의 평균값\n",
        "result = df['age'].mean()\n",
        "\n",
        "# 소수 첫째 까지까지 출력\n",
        "print(round(result, 1))"
      ],
      "metadata": {
        "colab": {
          "base_uri": "https://localhost:8080/"
        },
        "id": "IQDjkP_ZSAxx",
        "outputId": "74735a1c-a873-4a21-9e6c-49d2bbea3cac"
      },
      "execution_count": 2,
      "outputs": [
        {
          "output_type": "stream",
          "name": "stdout",
          "text": [
            "53.6\n"
          ]
        }
      ]
    }
  ]
}