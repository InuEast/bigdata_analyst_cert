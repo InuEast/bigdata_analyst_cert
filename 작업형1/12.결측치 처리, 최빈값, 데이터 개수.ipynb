{
  "nbformat": 4,
  "nbformat_minor": 0,
  "metadata": {
    "colab": {
      "provenance": []
    },
    "kernelspec": {
      "name": "python3",
      "display_name": "Python 3"
    },
    "language_info": {
      "name": "python"
    }
  },
  "cells": [
    {
      "cell_type": "markdown",
      "source": [
        "#### 문제\n",
        "1. 결측치가 가장 많은 두 컬럼을 찾으시오.\n",
        "2. 첫 번쨰로 결측치가 많은 컬럼에서 결측치가 있는 데이터(행)를 삭제하시오.\n",
        "3. 두 번째로 결측치가 많은 컬럼을 최빈값으로 대체하시오.\n",
        "4. 'f3' 컬럼의 'gold' 값을 가진 데이터의 수를 정수형으로 구하시오."
      ],
      "metadata": {
        "id": "G63i7MOJxdtH"
      }
    },
    {
      "cell_type": "code",
      "execution_count": 3,
      "metadata": {
        "id": "AqbksiPXxYhu"
      },
      "outputs": [],
      "source": [
        "import pandas as pd\n",
        "df = pd.read_csv(\"type1_data1.csv\")"
      ]
    },
    {
      "cell_type": "markdown",
      "source": [
        "#### 풀이"
      ],
      "metadata": {
        "id": "EeuCok_nyGHT"
      }
    },
    {
      "cell_type": "code",
      "source": [
        "# 결측치가 가장 많은 컬럼, 출력 결과로 확인\n",
        "# print(df.isnull().sum())\n",
        "\n",
        "# 결측치가 가장 많은 컬럼 제거\n",
        "df = df.dropna(subset=['f1'])\n",
        "\n",
        "# 두 번째로 결측치가 많은 컬럼 최빈값 대체\n",
        "freq = df['f3'].mode()[0]\n",
        "df['f3'].fillna(freq, inplace=True)\n",
        "\n",
        "# f3 컬럼이 gold인 데이터의 수\n",
        "print(sum(df['f3']=='gold'))"
      ],
      "metadata": {
        "colab": {
          "base_uri": "https://localhost:8080/"
        },
        "id": "xEgUgQhUyHtX",
        "outputId": "83257291-2f41-4b29-b8b8-5ff451aa8510"
      },
      "execution_count": 4,
      "outputs": [
        {
          "output_type": "stream",
          "name": "stdout",
          "text": [
            "63\n"
          ]
        },
        {
          "output_type": "stream",
          "name": "stderr",
          "text": [
            "/tmp/ipython-input-1253597136.py:9: FutureWarning: A value is trying to be set on a copy of a DataFrame or Series through chained assignment using an inplace method.\n",
            "The behavior will change in pandas 3.0. This inplace method will never work because the intermediate object on which we are setting values always behaves as a copy.\n",
            "\n",
            "For example, when doing 'df[col].method(value, inplace=True)', try using 'df.method({col: value}, inplace=True)' or df[col] = df[col].method(value) instead, to perform the operation inplace on the original object.\n",
            "\n",
            "\n",
            "  df['f3'].fillna(freq, inplace=True)\n"
          ]
        }
      ]
    }
  ]
}