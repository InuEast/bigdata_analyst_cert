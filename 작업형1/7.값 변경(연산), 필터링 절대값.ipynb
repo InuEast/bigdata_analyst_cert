{
  "nbformat": 4,
  "nbformat_minor": 0,
  "metadata": {
    "colab": {
      "provenance": []
    },
    "kernelspec": {
      "name": "python3",
      "display_name": "Python 3"
    },
    "language_info": {
      "name": "python"
    }
  },
  "cells": [
    {
      "cell_type": "markdown",
      "source": [
        "#### 문제\n",
        "1. 모든 나이(age)에 1을 더하시오.\n",
        "2. 20대의 'views' 평균과 30대의 평균의 절대값 차이를 구하시오. (반올림 후 소수 둘째 자리까지 계산)"
      ],
      "metadata": {
        "id": "8ChGyr_xkOF_"
      }
    },
    {
      "cell_type": "code",
      "execution_count": 4,
      "metadata": {
        "id": "VdoYV90vj_9V"
      },
      "outputs": [],
      "source": [
        "import pandas as pd\n",
        "df = pd.read_csv(\"type1_data1.csv\")"
      ]
    },
    {
      "cell_type": "markdown",
      "source": [
        "#### 풀이"
      ],
      "metadata": {
        "id": "xDyfn2DkkleH"
      }
    },
    {
      "cell_type": "code",
      "source": [
        "# 나이 + 1\n",
        "df['age'] = df['age'] + 1\n",
        "\n",
        "# 20대, 30대 조건\n",
        "cond1 = (df['age'] >= 20) & (df['age'] < 30)\n",
        "cond2 = (df['age'] >= 30) & (df['age'] < 40)\n",
        "\n",
        "# 30대 views\n",
        "result = abs(df[cond1]['views'].mean() - df[cond2]['views'].mean())"
      ],
      "metadata": {
        "id": "1Ck1uiDokjqa"
      },
      "execution_count": 6,
      "outputs": []
    },
    {
      "cell_type": "code",
      "source": [
        "print(round(result, 2))"
      ],
      "metadata": {
        "colab": {
          "base_uri": "https://localhost:8080/"
        },
        "id": "IhjNEfIRmKE0",
        "outputId": "0c72395a-9bfd-46ce-9cf1-df317504b390"
      },
      "execution_count": 7,
      "outputs": [
        {
          "output_type": "stream",
          "name": "stdout",
          "text": [
            "46.81\n"
          ]
        }
      ]
    }
  ]
}
