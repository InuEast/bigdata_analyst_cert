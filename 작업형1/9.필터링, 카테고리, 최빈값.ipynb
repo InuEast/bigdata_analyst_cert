{
  "nbformat": 4,
  "nbformat_minor": 0,
  "metadata": {
    "colab": {
      "provenance": []
    },
    "kernelspec": {
      "name": "python3",
      "display_name": "Python 3"
    },
    "language_info": {
      "name": "python"
    }
  },
  "cells": [
    {
      "cell_type": "markdown",
      "source": [
        "#### 문제\n",
        "1. 'views' 컬럼 값이 1000 이하인 데이터(결측치 제외)를 찾으시오.\n",
        "2. 앞에서 구한 데이터 중 'f4' 컬럼의 최빈값을 구하시오."
      ],
      "metadata": {
        "id": "Zh3C-ConwknU"
      }
    },
    {
      "cell_type": "code",
      "execution_count": 1,
      "metadata": {
        "id": "ytPGAk3ewY1O"
      },
      "outputs": [],
      "source": [
        "import pandas as pd\n",
        "df = pd.read_csv(\"type1_data1.csv\")"
      ]
    },
    {
      "cell_type": "markdown",
      "source": [
        "#### 풀이"
      ],
      "metadata": {
        "id": "bNVQd_aCxIWM"
      }
    },
    {
      "cell_type": "code",
      "source": [
        "# views수가 1000 이하\n",
        "cond = df['views'] <= 1000\n",
        "df = df[cond]\n",
        "\n",
        "# f4 컬럼 종류별 개수\n",
        "df = df['f4'].value_counts()\n",
        "\n",
        "# f4 컬럼 최빈값\n",
        "print(df.index[0])"
      ],
      "metadata": {
        "colab": {
          "base_uri": "https://localhost:8080/"
        },
        "id": "hH4vG4waxH91",
        "outputId": "0832324e-256a-4c1d-f4dc-85041bb83e79"
      },
      "execution_count": 2,
      "outputs": [
        {
          "output_type": "stream",
          "name": "stdout",
          "text": [
            "ISFJ\n"
          ]
        }
      ]
    }
  ]
}