{
  "nbformat": 4,
  "nbformat_minor": 0,
  "metadata": {
    "colab": {
      "provenance": []
    },
    "kernelspec": {
      "name": "python3",
      "display_name": "Python 3"
    },
    "language_info": {
      "name": "python"
    }
  },
  "cells": [
    {
      "cell_type": "markdown",
      "source": [
        "#### 문제\n",
        "1. 데이터에서 결측치가 있는 데이터(행)을 모두 제거하시오\n",
        "2. 결측치가 제거된 데이터를 사용하여 앞에서부터 70% 데이터를 구하시오. (단, 데이터 70% 지점의 index가 소수 점으로 계산될 경우 소수점 이하는 버림)\n",
        "3. 앞에서 구한 70% 데이터 중 'views' 컬럼의 3사분위수에서 1사분위수를 뺀 값을 정수로 구하시오."
      ],
      "metadata": {
        "id": "pA_WJdvkHzNd"
      }
    },
    {
      "cell_type": "code",
      "execution_count": 1,
      "metadata": {
        "id": "kbnWox_dHKOu"
      },
      "outputs": [],
      "source": [
        "import pandas as pd\n",
        "df = pd.read_csv(\"type1_data1.csv\")"
      ]
    },
    {
      "cell_type": "markdown",
      "source": [
        "#### 풀이"
      ],
      "metadata": {
        "id": "WxLmEBboIWeV"
      }
    },
    {
      "cell_type": "code",
      "source": [
        "# 결측치가 있는 행 제거\n",
        "df.dropna(inplace=True)\n",
        "\n",
        "# 70% 지점\n",
        "end = int(len(df) * 0.7)\n",
        "\n",
        "# 70% 데이터 슬라이싱\n",
        "df = df.iloc[:end]\n",
        "\n",
        "# 3사분위수, 1사분위수\n",
        "q3 = df['views'].quantile(.75)\n",
        "q1 = df['views'].quantile(.25)"
      ],
      "metadata": {
        "id": "KYYKGg8yIWBD"
      },
      "execution_count": 2,
      "outputs": []
    },
    {
      "cell_type": "markdown",
      "source": [
        "#### 출력"
      ],
      "metadata": {
        "id": "_hB3RMwsI-hf"
      }
    },
    {
      "cell_type": "code",
      "source": [
        "print(int(q3-q1))"
      ],
      "metadata": {
        "colab": {
          "base_uri": "https://localhost:8080/"
        },
        "id": "7jtMhtSPI9v6",
        "outputId": "85ca51a8-71d3-4314-9d3c-a23dbe4dbe7a"
      },
      "execution_count": 3,
      "outputs": [
        {
          "output_type": "stream",
          "name": "stdout",
          "text": [
            "2771\n"
          ]
        }
      ]
    }
  ]
}