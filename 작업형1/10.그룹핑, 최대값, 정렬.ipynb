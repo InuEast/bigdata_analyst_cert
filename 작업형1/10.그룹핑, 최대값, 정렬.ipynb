{
  "nbformat": 4,
  "nbformat_minor": 0,
  "metadata": {
    "colab": {
      "provenance": []
    },
    "kernelspec": {
      "name": "python3",
      "display_name": "Python 3"
    },
    "language_info": {
      "name": "python"
    }
  },
  "cells": [
    {
      "cell_type": "markdown",
      "source": [
        "#### 문제\n",
        "1. 결측치가 있는 행을 삭제하시오.\n",
        "2. 결측치가 삭제된 데이터를 사용하여 지역별(city) 평균을 계산하시오.\n",
        "3. 앞에서 계산한 지역별 평균 데이터에서 'f2' 컬럼 값이 가장 큰 지역을 구하시오."
      ],
      "metadata": {
        "id": "uaq3CiBvDs73"
      }
    },
    {
      "cell_type": "code",
      "execution_count": 4,
      "metadata": {
        "id": "VemPXq7fDlSe"
      },
      "outputs": [],
      "source": [
        "import pandas as pd\n",
        "df = pd.read_csv(\"type1_data1.csv\")"
      ]
    },
    {
      "cell_type": "markdown",
      "source": [
        "#### 풀이 1"
      ],
      "metadata": {
        "id": "vCFfM3yBEHUo"
      }
    },
    {
      "cell_type": "code",
      "source": [
        "# 결측치가 있는 행 삭제\n",
        "df.dropna(inplace = True)\n",
        "\n",
        "# 지역별 평균 계산\n",
        "df = df.groupby(['city']).mean(numeric_only=True) # 시험환경은 mean() 활용\n",
        "\n",
        "# f2 컬럼이 가장 큰 지역 출력\n",
        "print(df.sort_values(\"f2\", ascending = False).index[0])"
      ],
      "metadata": {
        "colab": {
          "base_uri": "https://localhost:8080/"
        },
        "id": "eOMFl9prEHaA",
        "outputId": "d8311f15-265f-45c4-900d-4f7a58334894"
      },
      "execution_count": 3,
      "outputs": [
        {
          "output_type": "stream",
          "name": "stdout",
          "text": [
            "서울\n"
          ]
        }
      ]
    },
    {
      "cell_type": "markdown",
      "source": [
        "#### 풀이 2"
      ],
      "metadata": {
        "id": "OOcXUjTjFhnd"
      }
    },
    {
      "cell_type": "code",
      "source": [
        "# 결측치가 있는 행 삭제\n",
        "df.dropna(inplace = True)\n",
        "\n",
        "# 지역별 평균 계산\n",
        "df = df.groupby(['city']).mean(numeric_only=True) # 시험환경은 mean() 활용\n",
        "\n",
        "# f2 컬럼이 가장 큰 지역 출력\n",
        "print(df['f2'].idxmax())"
      ],
      "metadata": {
        "colab": {
          "base_uri": "https://localhost:8080/"
        },
        "id": "soYlGYkYFjvf",
        "outputId": "e337667b-bf33-4bfb-c25c-a3493592a5ed"
      },
      "execution_count": 5,
      "outputs": [
        {
          "output_type": "stream",
          "name": "stdout",
          "text": [
            "서울\n"
          ]
        }
      ]
    }
  ]
}