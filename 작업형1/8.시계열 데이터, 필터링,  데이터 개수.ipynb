{
  "nbformat": 4,
  "nbformat_minor": 0,
  "metadata": {
    "colab": {
      "provenance": []
    },
    "kernelspec": {
      "name": "python3",
      "display_name": "Python 3"
    },
    "language_info": {
      "name": "python"
    }
  },
  "cells": [
    {
      "cell_type": "markdown",
      "source": [
        "#### 문제\n",
        "1. 'subscribed' 컬럼이 2024년 2월인 데이터를 찾으시오.\n",
        "2. 위에서 찾은 데이터 중 'f3' 컬럼이 gold인 데이터의 개수를 구하시오."
      ],
      "metadata": {
        "id": "uu8yaf9Y2bL7"
      }
    },
    {
      "cell_type": "code",
      "execution_count": 1,
      "metadata": {
        "id": "u29joC131uz6"
      },
      "outputs": [],
      "source": [
        "import pandas as pd\n",
        "df = pd.read_csv(\"type1_data1.csv\")"
      ]
    },
    {
      "cell_type": "markdown",
      "source": [
        "#### 풀이"
      ],
      "metadata": {
        "id": "5AfBO_MK2mcr"
      }
    },
    {
      "cell_type": "code",
      "source": [
        "# 자료형 변환\n",
        "df['subscribed'] = pd.to_datetime(df['subscribed'])\n",
        "\n",
        "# 파생변수 생성(연, 월)\n",
        "df['year'] = df['subscribed'].dt.year\n",
        "df['month'] = df['subscribed'].dt.month\n",
        "\n",
        "# 2024년 2월이고, 'f3'이 gold인 데이터\n",
        "cond1 = df['year'] == 2024\n",
        "cond2 = df['month'] == 2\n",
        "cond3 = df['f3'] == 'gold'\n",
        "df = df[cond1 & cond2 & cond3]"
      ],
      "metadata": {
        "id": "b_0YitI-2oAB"
      },
      "execution_count": 4,
      "outputs": []
    },
    {
      "cell_type": "code",
      "source": [
        "print(len(df))"
      ],
      "metadata": {
        "colab": {
          "base_uri": "https://localhost:8080/"
        },
        "id": "EI_y9QIj21AO",
        "outputId": "ead3c397-b505-4b75-9874-521fce6f7b3b"
      },
      "execution_count": 5,
      "outputs": [
        {
          "output_type": "stream",
          "name": "stdout",
          "text": [
            "5\n"
          ]
        }
      ]
    }
  ]
}
